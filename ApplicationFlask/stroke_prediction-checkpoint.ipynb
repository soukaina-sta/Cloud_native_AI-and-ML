{
 "cells": [
  {
   "cell_type": "markdown",
   "metadata": {
    "_cell_guid": "b1076dfc-b9ad-4769-8c92-a6c4dae69d19",
    "_uuid": "8f2839f25d086af736a60e9eeb907d3b93b6e0e5"
   },
   "source": [
    "# Import libraries"
   ]
  },
  {
   "cell_type": "code",
   "execution_count": null,
   "metadata": {
    "execution": {
     "iopub.execute_input": "2023-09-02T04:50:01.044296Z",
     "iopub.status.busy": "2023-09-02T04:50:01.043595Z",
     "iopub.status.idle": "2023-09-02T04:50:03.739386Z",
     "shell.execute_reply": "2023-09-02T04:50:03.738196Z",
     "shell.execute_reply.started": "2023-09-02T04:50:01.044262Z"
    }
   },
   "outputs": [],
   "source": [
    "import numpy as np\n",
    "import pandas as pd \n",
    "import os\n",
    "import matplotlib.pyplot as plt\n",
    "import seaborn as sns\n",
    "\n",
    "# Preprocessing libraries\n",
    "from sklearn.model_selection import train_test_split\n",
    "from sklearn.preprocessing import StandardScaler, LabelEncoder\n",
    "\n",
    "# Model libraries\n",
    "from sklearn.ensemble import RandomForestClassifier\n",
    "from sklearn.svm import SVC\n",
    "from sklearn.tree import DecisionTreeClassifier\n",
    "from sklearn.neighbors import KNeighborsClassifier\n",
    "from sklearn.naive_bayes import GaussianNB\n",
    "from sklearn.linear_model import LogisticRegression\n",
    "\n",
    "# Model testing libraries\n",
    "from sklearn.metrics import accuracy_score, confusion_matrix, ConfusionMatrixDisplay"
   ]
  },
  {
   "cell_type": "markdown",
   "metadata": {},
   "source": [
    "# Import data"
   ]
  },
  {
   "cell_type": "code",
   "execution_count": null,
   "metadata": {
    "execution": {
     "iopub.execute_input": "2023-09-02T04:50:03.742701Z",
     "iopub.status.busy": "2023-09-02T04:50:03.741845Z",
     "iopub.status.idle": "2023-09-02T04:50:03.761579Z",
     "shell.execute_reply": "2023-09-02T04:50:03.759246Z",
     "shell.execute_reply.started": "2023-09-02T04:50:03.742659Z"
    }
   },
   "outputs": [],
   "source": [
    "paths = []\n",
    "for dirname, _, filenames in os.walk('/kaggle/input'):\n",
    "    for filename in filenames:\n",
    "        paths.append(os.path.join(dirname, filename))"
   ]
  },
  {
   "cell_type": "code",
   "execution_count": null,
   "metadata": {
    "execution": {
     "iopub.execute_input": "2023-09-02T04:50:03.764553Z",
     "iopub.status.busy": "2023-09-02T04:50:03.76357Z",
     "iopub.status.idle": "2023-09-02T04:50:03.826668Z",
     "shell.execute_reply": "2023-09-02T04:50:03.825867Z",
     "shell.execute_reply.started": "2023-09-02T04:50:03.764512Z"
    }
   },
   "outputs": [],
   "source": [
    "data = pd.read_csv(paths[0])\n",
    "data.head()"
   ]
  },
  {
   "cell_type": "markdown",
   "metadata": {},
   "source": [
    "# Data preprocessing"
   ]
  },
  {
   "cell_type": "code",
   "execution_count": null,
   "metadata": {
    "execution": {
     "iopub.execute_input": "2023-09-02T04:50:03.830238Z",
     "iopub.status.busy": "2023-09-02T04:50:03.829272Z",
     "iopub.status.idle": "2023-09-02T04:50:03.861303Z",
     "shell.execute_reply": "2023-09-02T04:50:03.860234Z",
     "shell.execute_reply.started": "2023-09-02T04:50:03.830198Z"
    }
   },
   "outputs": [],
   "source": [
    "data.info()"
   ]
  },
  {
   "cell_type": "code",
   "execution_count": null,
   "metadata": {
    "execution": {
     "iopub.execute_input": "2023-09-02T04:50:03.862918Z",
     "iopub.status.busy": "2023-09-02T04:50:03.862606Z",
     "iopub.status.idle": "2023-09-02T04:50:03.900958Z",
     "shell.execute_reply": "2023-09-02T04:50:03.899878Z",
     "shell.execute_reply.started": "2023-09-02T04:50:03.862891Z"
    }
   },
   "outputs": [],
   "source": [
    "data.describe()"
   ]
  },
  {
   "cell_type": "code",
   "execution_count": null,
   "metadata": {
    "execution": {
     "iopub.execute_input": "2023-09-02T04:50:03.902605Z",
     "iopub.status.busy": "2023-09-02T04:50:03.902286Z",
     "iopub.status.idle": "2023-09-02T04:50:03.963341Z",
     "shell.execute_reply": "2023-09-02T04:50:03.962329Z",
     "shell.execute_reply.started": "2023-09-02T04:50:03.902577Z"
    }
   },
   "outputs": [],
   "source": [
    "classes = {}\n",
    "lb = LabelEncoder()\n",
    "data['gender'] = lb.fit_transform(data['gender'])\n",
    "classes['gender'] = lb.classes_\n",
    "\n",
    "data['ever_married'] = lb.fit_transform(data['ever_married'])\n",
    "classes['ever_married'] = lb.classes_\n",
    "\n",
    "data['work_type'] = lb.fit_transform(data['work_type'])\n",
    "classes['work_type'] = lb.classes_\n",
    "\n",
    "data['Residence_type'] = lb.fit_transform(data['Residence_type'])\n",
    "classes['Residence_type'] = lb.classes_\n",
    "\n",
    "data['smoking_status'] = lb.fit_transform(data['smoking_status'])\n",
    "classes['smoking_status'] = lb.classes_\n",
    "mean_value = data['bmi'].mean()\n",
    "data['bmi'].fillna(value=mean_value, inplace=True)\n",
    "for key, value in classes.items():\n",
    "    print(key,\"\\t\", value)\n",
    "data.describe()"
   ]
  },
  {
   "cell_type": "markdown",
   "metadata": {},
   "source": [
    "# Data visualization"
   ]
  },
  {
   "cell_type": "code",
   "execution_count": null,
   "metadata": {
    "execution": {
     "iopub.execute_input": "2023-09-02T04:50:03.965336Z",
     "iopub.status.busy": "2023-09-02T04:50:03.964616Z",
     "iopub.status.idle": "2023-09-02T04:50:03.972182Z",
     "shell.execute_reply": "2023-09-02T04:50:03.971372Z",
     "shell.execute_reply.started": "2023-09-02T04:50:03.965306Z"
    }
   },
   "outputs": [],
   "source": [
    "data.drop(['id'], axis = 1, inplace = True)"
   ]
  },
  {
   "cell_type": "code",
   "execution_count": null,
   "metadata": {
    "execution": {
     "iopub.execute_input": "2023-09-02T04:50:03.97423Z",
     "iopub.status.busy": "2023-09-02T04:50:03.973422Z",
     "iopub.status.idle": "2023-09-02T04:50:04.452573Z",
     "shell.execute_reply": "2023-09-02T04:50:04.451401Z",
     "shell.execute_reply.started": "2023-09-02T04:50:03.9742Z"
    }
   },
   "outputs": [],
   "source": [
    "sns.heatmap(data.corr())"
   ]
  },
  {
   "cell_type": "code",
   "execution_count": null,
   "metadata": {
    "execution": {
     "iopub.execute_input": "2023-09-02T04:50:04.454584Z",
     "iopub.status.busy": "2023-09-02T04:50:04.454144Z",
     "iopub.status.idle": "2023-09-02T04:50:04.97385Z",
     "shell.execute_reply": "2023-09-02T04:50:04.973067Z",
     "shell.execute_reply.started": "2023-09-02T04:50:04.454547Z"
    }
   },
   "outputs": [],
   "source": [
    "fig, ax = plt.subplots(2, 2, figsize = (8, 8))\n",
    "sns.boxplot(data = data['avg_glucose_level'], ax = ax[0, 0], color='purple')\n",
    "sns.boxplot(data = data['smoking_status'], ax = ax[0, 1], color='red')\n",
    "sns.boxplot(data = data['age'], ax = ax[1, 0], color='orange')\n",
    "sns.boxplot(data = data['bmi'], ax = ax[1, 1], color='pink')\n",
    "plt.show()"
   ]
  },
  {
   "cell_type": "markdown",
   "metadata": {},
   "source": [
    "# Testing different models"
   ]
  },
  {
   "cell_type": "code",
   "execution_count": null,
   "metadata": {
    "execution": {
     "iopub.execute_input": "2023-09-02T04:50:04.977292Z",
     "iopub.status.busy": "2023-09-02T04:50:04.976659Z",
     "iopub.status.idle": "2023-09-02T04:50:04.989678Z",
     "shell.execute_reply": "2023-09-02T04:50:04.988452Z",
     "shell.execute_reply.started": "2023-09-02T04:50:04.977253Z"
    }
   },
   "outputs": [],
   "source": [
    "X = data.drop(['stroke'], axis = 1)\n",
    "y = data['stroke']\n",
    "std = StandardScaler()\n",
    "X = std.fit_transform(X)"
   ]
  },
  {
   "cell_type": "code",
   "execution_count": null,
   "metadata": {
    "execution": {
     "iopub.execute_input": "2023-09-02T04:50:04.991316Z",
     "iopub.status.busy": "2023-09-02T04:50:04.990948Z",
     "iopub.status.idle": "2023-09-02T04:50:05.00458Z",
     "shell.execute_reply": "2023-09-02T04:50:05.003381Z",
     "shell.execute_reply.started": "2023-09-02T04:50:04.991286Z"
    }
   },
   "outputs": [],
   "source": [
    "X_train, X_test, y_train, y_test = train_test_split(X, y, test_size = 0.25, random_state = 0)\n",
    "model_name = []\n",
    "model_accuracy = []\n",
    "def test_model(model, name):\n",
    "    model.fit(X_train, y_train)\n",
    "    y_pred = model.predict(X_test)\n",
    "    accuracy = accuracy_score(y_pred, y_test)\n",
    "    model_name.append(name)\n",
    "    model_accuracy.append(accuracy)\n",
    "    cm = confusion_matrix(y_test, y_pred, labels=model.classes_)\n",
    "    disp = ConfusionMatrixDisplay(confusion_matrix=cm,display_labels=model.classes_)\n",
    "    print(accuracy)\n",
    "    disp.plot()\n",
    "    plt.show()"
   ]
  },
  {
   "cell_type": "markdown",
   "metadata": {},
   "source": [
    "# 1. Random Forest Classifier"
   ]
  },
  {
   "cell_type": "code",
   "execution_count": null,
   "metadata": {
    "execution": {
     "iopub.execute_input": "2023-09-02T04:50:05.006357Z",
     "iopub.status.busy": "2023-09-02T04:50:05.005842Z",
     "iopub.status.idle": "2023-09-02T04:50:05.313925Z",
     "shell.execute_reply": "2023-09-02T04:50:05.312811Z",
     "shell.execute_reply.started": "2023-09-02T04:50:05.006325Z"
    }
   },
   "outputs": [],
   "source": [
    "model = RandomForestClassifier(n_estimators = 10)\n",
    "test_model(model, \"Random Forest Classifier\")"
   ]
  },
  {
   "cell_type": "markdown",
   "metadata": {},
   "source": [
    "# 2. Support vector machine"
   ]
  },
  {
   "cell_type": "code",
   "execution_count": null,
   "metadata": {
    "execution": {
     "iopub.execute_input": "2023-09-02T04:50:05.317452Z",
     "iopub.status.busy": "2023-09-02T04:50:05.317038Z",
     "iopub.status.idle": "2023-09-02T04:50:05.797353Z",
     "shell.execute_reply": "2023-09-02T04:50:05.796309Z",
     "shell.execute_reply.started": "2023-09-02T04:50:05.317421Z"
    }
   },
   "outputs": [],
   "source": [
    "model = SVC(C=1.2, kernel='rbf')\n",
    "test_model(model, \"Support Vector Machine\")"
   ]
  },
  {
   "cell_type": "markdown",
   "metadata": {},
   "source": [
    "# 3. Decision Tree Classifier"
   ]
  },
  {
   "cell_type": "code",
   "execution_count": null,
   "metadata": {
    "execution": {
     "iopub.execute_input": "2023-09-02T04:50:05.799372Z",
     "iopub.status.busy": "2023-09-02T04:50:05.798982Z",
     "iopub.status.idle": "2023-09-02T04:50:06.027748Z",
     "shell.execute_reply": "2023-09-02T04:50:06.02697Z",
     "shell.execute_reply.started": "2023-09-02T04:50:05.799342Z"
    }
   },
   "outputs": [],
   "source": [
    "model = DecisionTreeClassifier(random_state = 0)\n",
    "test_model(model, \"Decision Tree Classifier\")"
   ]
  },
  {
   "cell_type": "markdown",
   "metadata": {},
   "source": [
    "# 4. Kneighbor classifier"
   ]
  },
  {
   "cell_type": "code",
   "execution_count": null,
   "metadata": {
    "execution": {
     "iopub.execute_input": "2023-09-02T04:50:06.029428Z",
     "iopub.status.busy": "2023-09-02T04:50:06.028903Z",
     "iopub.status.idle": "2023-09-02T04:50:06.461354Z",
     "shell.execute_reply": "2023-09-02T04:50:06.460323Z",
     "shell.execute_reply.started": "2023-09-02T04:50:06.029397Z"
    }
   },
   "outputs": [],
   "source": [
    "model = KNeighborsClassifier(n_neighbors=3)\n",
    "test_model(model, \"KNeighbors Classifier\")"
   ]
  },
  {
   "cell_type": "markdown",
   "metadata": {},
   "source": [
    "# 5. Gaussian Naive Bayes"
   ]
  },
  {
   "cell_type": "code",
   "execution_count": null,
   "metadata": {
    "execution": {
     "iopub.execute_input": "2023-09-02T04:50:06.46296Z",
     "iopub.status.busy": "2023-09-02T04:50:06.462631Z",
     "iopub.status.idle": "2023-09-02T04:50:06.69797Z",
     "shell.execute_reply": "2023-09-02T04:50:06.696917Z",
     "shell.execute_reply.started": "2023-09-02T04:50:06.462931Z"
    }
   },
   "outputs": [],
   "source": [
    "model = GaussianNB()\n",
    "test_model(model, \"Gaussian Naive Bayes\")"
   ]
  },
  {
   "cell_type": "markdown",
   "metadata": {},
   "source": [
    "# 6 Logistic Regression"
   ]
  },
  {
   "cell_type": "code",
   "execution_count": null,
   "metadata": {
    "execution": {
     "iopub.execute_input": "2023-09-02T04:50:06.69979Z",
     "iopub.status.busy": "2023-09-02T04:50:06.699373Z",
     "iopub.status.idle": "2023-09-02T04:50:06.995418Z",
     "shell.execute_reply": "2023-09-02T04:50:06.994417Z",
     "shell.execute_reply.started": "2023-09-02T04:50:06.699751Z"
    }
   },
   "outputs": [],
   "source": [
    "model = LogisticRegression()\n",
    "test_model(model, \"Logistic Regression\")"
   ]
  },
  {
   "cell_type": "markdown",
   "metadata": {},
   "source": [
    "# Plotting accuracies of different models"
   ]
  },
  {
   "cell_type": "code",
   "execution_count": null,
   "metadata": {
    "execution": {
     "iopub.execute_input": "2023-09-02T04:50:06.997321Z",
     "iopub.status.busy": "2023-09-02T04:50:06.996784Z",
     "iopub.status.idle": "2023-09-02T04:50:07.244197Z",
     "shell.execute_reply": "2023-09-02T04:50:07.243112Z",
     "shell.execute_reply.started": "2023-09-02T04:50:06.997291Z"
    }
   },
   "outputs": [],
   "source": [
    "fig = plt.figure(figsize = (20, 5))\n",
    "plt.bar(model_name, model_accuracy, width = 0.2, color='green')\n",
    "plt.xlabel(\"Models\", fontsize = 15)\n",
    "plt.ylabel(\"accuracy\", fontsize = 15)\n",
    "# plt.xticks()\n",
    "plt.show()"
   ]
  },
  {
   "cell_type": "code",
   "execution_count": null,
   "metadata": {},
   "outputs": [],
   "source": []
  }
 ],
 "metadata": {
  "kernelspec": {
   "display_name": "Python 3 (ipykernel)",
   "language": "python",
   "name": "python3"
  },
  "language_info": {
   "codemirror_mode": {
    "name": "ipython",
    "version": 3
   },
   "file_extension": ".py",
   "mimetype": "text/x-python",
   "name": "python",
   "nbconvert_exporter": "python",
   "pygments_lexer": "ipython3",
   "version": "3.9.13"
  }
 },
 "nbformat": 4,
 "nbformat_minor": 4
}
